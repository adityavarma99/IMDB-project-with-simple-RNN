{
 "cells": [
  {
   "cell_type": "code",
   "execution_count": 1,
   "metadata": {},
   "outputs": [],
   "source": [
    "from tensorflow.keras.preprocessing.text import one_hot"
   ]
  },
  {
   "cell_type": "code",
   "execution_count": 2,
   "metadata": {},
   "outputs": [],
   "source": [
    "### sentences\n",
    "sent=[  'the glass of milk',\n",
    "     'the glass of juice',\n",
    "     'the cup of tea',\n",
    "    'I am a good boy',\n",
    "     'I am a good developer',\n",
    "     'understand the meaning of words',\n",
    "     'your videos are good',]"
   ]
  },
  {
   "cell_type": "code",
   "execution_count": 3,
   "metadata": {},
   "outputs": [
    {
     "data": {
      "text/plain": [
       "['the glass of milk',\n",
       " 'the glass of juice',\n",
       " 'the cup of tea',\n",
       " 'I am a good boy',\n",
       " 'I am a good developer',\n",
       " 'understand the meaning of words',\n",
       " 'your videos are good']"
      ]
     },
     "execution_count": 3,
     "metadata": {},
     "output_type": "execute_result"
    }
   ],
   "source": [
    "sent"
   ]
  },
  {
   "cell_type": "code",
   "execution_count": 4,
   "metadata": {},
   "outputs": [],
   "source": [
    "## Define vocab size\n",
    "voc_size=10000"
   ]
  },
  {
   "cell_type": "code",
   "execution_count": 5,
   "metadata": {},
   "outputs": [
    {
     "data": {
      "text/plain": [
       "[[2485, 4296, 1236, 9122],\n",
       " [2485, 4296, 1236, 8215],\n",
       " [2485, 6472, 1236, 7883],\n",
       " [7987, 8782, 393, 2782, 4062],\n",
       " [7987, 8782, 393, 2782, 202],\n",
       " [2688, 2485, 5722, 1236, 2318],\n",
       " [9183, 2491, 7525, 2782]]"
      ]
     },
     "execution_count": 5,
     "metadata": {},
     "output_type": "execute_result"
    }
   ],
   "source": [
    "## One hot representation for every word\n",
    "\n",
    "one_hot_repr=[one_hot(words,voc_size) for words in sent]\n",
    "one_hot_repr"
   ]
  },
  {
   "cell_type": "markdown",
   "metadata": {},
   "source": [
    "## Word Embedding Representation"
   ]
  },
  {
   "cell_type": "code",
   "execution_count": 6,
   "metadata": {},
   "outputs": [],
   "source": [
    "from tensorflow.keras.layers import Embedding\n",
    "#from tensorflow.keras.processing.sequence import pad_sequences\n",
    "from tensorflow.keras.utils import pad_sequences\n",
    "from tensorflow.keras.models import Sequential"
   ]
  },
  {
   "cell_type": "markdown",
   "metadata": {},
   "source": [
    "### we use pad sequences to set the maximum sentence lenght to work in RNN"
   ]
  },
  {
   "cell_type": "code",
   "execution_count": 7,
   "metadata": {},
   "outputs": [],
   "source": [
    "import numpy as np"
   ]
  },
  {
   "cell_type": "code",
   "execution_count": 8,
   "metadata": {},
   "outputs": [
    {
     "data": {
      "text/plain": [
       "array([[   0,    0,    0,    0, 2485, 4296, 1236, 9122],\n",
       "       [   0,    0,    0,    0, 2485, 4296, 1236, 8215],\n",
       "       [   0,    0,    0,    0, 2485, 6472, 1236, 7883],\n",
       "       [   0,    0,    0, 7987, 8782,  393, 2782, 4062],\n",
       "       [   0,    0,    0, 7987, 8782,  393, 2782,  202],\n",
       "       [   0,    0,    0, 2688, 2485, 5722, 1236, 2318],\n",
       "       [   0,    0,    0,    0, 9183, 2491, 7525, 2782]], dtype=int32)"
      ]
     },
     "execution_count": 8,
     "metadata": {},
     "output_type": "execute_result"
    }
   ],
   "source": [
    "sent_length=8                    # pad sequences helps us to set the lengt as 8, it will set zeros [0, 0, 0, 0, 3225, 6458, 4987, 6211]\n",
    "Embedding_docs=pad_sequences(one_hot_repr,padding='pre',maxlen=sent_length)\n",
    "Embedding_docs"
   ]
  },
  {
   "cell_type": "markdown",
   "metadata": {},
   "source": [
    "## Feature representation"
   ]
  },
  {
   "cell_type": "code",
   "execution_count": 9,
   "metadata": {},
   "outputs": [],
   "source": [
    "dim=10"
   ]
  },
  {
   "cell_type": "code",
   "execution_count": 10,
   "metadata": {},
   "outputs": [],
   "source": [
    "##model=Sequential()\n",
    "#model.add(Embedding(voc_size,dim,input_length=sent_length))       # pass paramarters into embedding layer\n",
    "#model.compile('adam','mse')                                       ## optimizer adam and loss fucntion mse"
   ]
  },
  {
   "cell_type": "code",
   "execution_count": 11,
   "metadata": {},
   "outputs": [],
   "source": [
    "model = Sequential()\n",
    "model.add(Embedding(input_dim=voc_size,output_dim= dim))  # No need for input_length\n",
    "# Compile the model\n",
    "model.compile(optimizer='adam', loss='mse')\n"
   ]
  },
  {
   "cell_type": "code",
   "execution_count": 12,
   "metadata": {},
   "outputs": [
    {
     "name": "stdout",
     "output_type": "stream",
     "text": [
      "Before feeding input:\n"
     ]
    },
    {
     "data": {
      "text/html": [
       "<pre style=\"white-space:pre;overflow-x:auto;line-height:normal;font-family:Menlo,'DejaVu Sans Mono',consolas,'Courier New',monospace\"><span style=\"font-weight: bold\">Model: \"sequential\"</span>\n",
       "</pre>\n"
      ],
      "text/plain": [
       "\u001b[1mModel: \"sequential\"\u001b[0m\n"
      ]
     },
     "metadata": {},
     "output_type": "display_data"
    },
    {
     "data": {
      "text/html": [
       "<pre style=\"white-space:pre;overflow-x:auto;line-height:normal;font-family:Menlo,'DejaVu Sans Mono',consolas,'Courier New',monospace\">┏━━━━━━━━━━━━━━━━━━━━━━━━━━━━━━━━━┳━━━━━━━━━━━━━━━━━━━━━━━━┳━━━━━━━━━━━━━━━┓\n",
       "┃<span style=\"font-weight: bold\"> Layer (type)                    </span>┃<span style=\"font-weight: bold\"> Output Shape           </span>┃<span style=\"font-weight: bold\">       Param # </span>┃\n",
       "┡━━━━━━━━━━━━━━━━━━━━━━━━━━━━━━━━━╇━━━━━━━━━━━━━━━━━━━━━━━━╇━━━━━━━━━━━━━━━┩\n",
       "│ embedding (<span style=\"color: #0087ff; text-decoration-color: #0087ff\">Embedding</span>)           │ ?                      │   <span style=\"color: #00af00; text-decoration-color: #00af00\">0</span> (unbuilt) │\n",
       "└─────────────────────────────────┴────────────────────────┴───────────────┘\n",
       "</pre>\n"
      ],
      "text/plain": [
       "┏━━━━━━━━━━━━━━━━━━━━━━━━━━━━━━━━━┳━━━━━━━━━━━━━━━━━━━━━━━━┳━━━━━━━━━━━━━━━┓\n",
       "┃\u001b[1m \u001b[0m\u001b[1mLayer (type)                   \u001b[0m\u001b[1m \u001b[0m┃\u001b[1m \u001b[0m\u001b[1mOutput Shape          \u001b[0m\u001b[1m \u001b[0m┃\u001b[1m \u001b[0m\u001b[1m      Param #\u001b[0m\u001b[1m \u001b[0m┃\n",
       "┡━━━━━━━━━━━━━━━━━━━━━━━━━━━━━━━━━╇━━━━━━━━━━━━━━━━━━━━━━━━╇━━━━━━━━━━━━━━━┩\n",
       "│ embedding (\u001b[38;5;33mEmbedding\u001b[0m)           │ ?                      │   \u001b[38;5;34m0\u001b[0m (unbuilt) │\n",
       "└─────────────────────────────────┴────────────────────────┴───────────────┘\n"
      ]
     },
     "metadata": {},
     "output_type": "display_data"
    },
    {
     "data": {
      "text/html": [
       "<pre style=\"white-space:pre;overflow-x:auto;line-height:normal;font-family:Menlo,'DejaVu Sans Mono',consolas,'Courier New',monospace\"><span style=\"font-weight: bold\"> Total params: </span><span style=\"color: #00af00; text-decoration-color: #00af00\">0</span> (0.00 B)\n",
       "</pre>\n"
      ],
      "text/plain": [
       "\u001b[1m Total params: \u001b[0m\u001b[38;5;34m0\u001b[0m (0.00 B)\n"
      ]
     },
     "metadata": {},
     "output_type": "display_data"
    },
    {
     "data": {
      "text/html": [
       "<pre style=\"white-space:pre;overflow-x:auto;line-height:normal;font-family:Menlo,'DejaVu Sans Mono',consolas,'Courier New',monospace\"><span style=\"font-weight: bold\"> Trainable params: </span><span style=\"color: #00af00; text-decoration-color: #00af00\">0</span> (0.00 B)\n",
       "</pre>\n"
      ],
      "text/plain": [
       "\u001b[1m Trainable params: \u001b[0m\u001b[38;5;34m0\u001b[0m (0.00 B)\n"
      ]
     },
     "metadata": {},
     "output_type": "display_data"
    },
    {
     "data": {
      "text/html": [
       "<pre style=\"white-space:pre;overflow-x:auto;line-height:normal;font-family:Menlo,'DejaVu Sans Mono',consolas,'Courier New',monospace\"><span style=\"font-weight: bold\"> Non-trainable params: </span><span style=\"color: #00af00; text-decoration-color: #00af00\">0</span> (0.00 B)\n",
       "</pre>\n"
      ],
      "text/plain": [
       "\u001b[1m Non-trainable params: \u001b[0m\u001b[38;5;34m0\u001b[0m (0.00 B)\n"
      ]
     },
     "metadata": {},
     "output_type": "display_data"
    },
    {
     "name": "stdout",
     "output_type": "stream",
     "text": [
      "None\n",
      "\u001b[1m1/1\u001b[0m \u001b[32m━━━━━━━━━━━━━━━━━━━━\u001b[0m\u001b[37m\u001b[0m \u001b[1m0s\u001b[0m 268ms/step\n",
      "After feeding input:\n"
     ]
    },
    {
     "data": {
      "text/html": [
       "<pre style=\"white-space:pre;overflow-x:auto;line-height:normal;font-family:Menlo,'DejaVu Sans Mono',consolas,'Courier New',monospace\"><span style=\"font-weight: bold\">Model: \"sequential\"</span>\n",
       "</pre>\n"
      ],
      "text/plain": [
       "\u001b[1mModel: \"sequential\"\u001b[0m\n"
      ]
     },
     "metadata": {},
     "output_type": "display_data"
    },
    {
     "data": {
      "text/html": [
       "<pre style=\"white-space:pre;overflow-x:auto;line-height:normal;font-family:Menlo,'DejaVu Sans Mono',consolas,'Courier New',monospace\">┏━━━━━━━━━━━━━━━━━━━━━━━━━━━━━━━━━┳━━━━━━━━━━━━━━━━━━━━━━━━┳━━━━━━━━━━━━━━━┓\n",
       "┃<span style=\"font-weight: bold\"> Layer (type)                    </span>┃<span style=\"font-weight: bold\"> Output Shape           </span>┃<span style=\"font-weight: bold\">       Param # </span>┃\n",
       "┡━━━━━━━━━━━━━━━━━━━━━━━━━━━━━━━━━╇━━━━━━━━━━━━━━━━━━━━━━━━╇━━━━━━━━━━━━━━━┩\n",
       "│ embedding (<span style=\"color: #0087ff; text-decoration-color: #0087ff\">Embedding</span>)           │ (<span style=\"color: #00af00; text-decoration-color: #00af00\">1</span>, <span style=\"color: #00af00; text-decoration-color: #00af00\">8</span>, <span style=\"color: #00af00; text-decoration-color: #00af00\">10</span>)             │       <span style=\"color: #00af00; text-decoration-color: #00af00\">100,000</span> │\n",
       "└─────────────────────────────────┴────────────────────────┴───────────────┘\n",
       "</pre>\n"
      ],
      "text/plain": [
       "┏━━━━━━━━━━━━━━━━━━━━━━━━━━━━━━━━━┳━━━━━━━━━━━━━━━━━━━━━━━━┳━━━━━━━━━━━━━━━┓\n",
       "┃\u001b[1m \u001b[0m\u001b[1mLayer (type)                   \u001b[0m\u001b[1m \u001b[0m┃\u001b[1m \u001b[0m\u001b[1mOutput Shape          \u001b[0m\u001b[1m \u001b[0m┃\u001b[1m \u001b[0m\u001b[1m      Param #\u001b[0m\u001b[1m \u001b[0m┃\n",
       "┡━━━━━━━━━━━━━━━━━━━━━━━━━━━━━━━━━╇━━━━━━━━━━━━━━━━━━━━━━━━╇━━━━━━━━━━━━━━━┩\n",
       "│ embedding (\u001b[38;5;33mEmbedding\u001b[0m)           │ (\u001b[38;5;34m1\u001b[0m, \u001b[38;5;34m8\u001b[0m, \u001b[38;5;34m10\u001b[0m)             │       \u001b[38;5;34m100,000\u001b[0m │\n",
       "└─────────────────────────────────┴────────────────────────┴───────────────┘\n"
      ]
     },
     "metadata": {},
     "output_type": "display_data"
    },
    {
     "data": {
      "text/html": [
       "<pre style=\"white-space:pre;overflow-x:auto;line-height:normal;font-family:Menlo,'DejaVu Sans Mono',consolas,'Courier New',monospace\"><span style=\"font-weight: bold\"> Total params: </span><span style=\"color: #00af00; text-decoration-color: #00af00\">100,000</span> (390.62 KB)\n",
       "</pre>\n"
      ],
      "text/plain": [
       "\u001b[1m Total params: \u001b[0m\u001b[38;5;34m100,000\u001b[0m (390.62 KB)\n"
      ]
     },
     "metadata": {},
     "output_type": "display_data"
    },
    {
     "data": {
      "text/html": [
       "<pre style=\"white-space:pre;overflow-x:auto;line-height:normal;font-family:Menlo,'DejaVu Sans Mono',consolas,'Courier New',monospace\"><span style=\"font-weight: bold\"> Trainable params: </span><span style=\"color: #00af00; text-decoration-color: #00af00\">100,000</span> (390.62 KB)\n",
       "</pre>\n"
      ],
      "text/plain": [
       "\u001b[1m Trainable params: \u001b[0m\u001b[38;5;34m100,000\u001b[0m (390.62 KB)\n"
      ]
     },
     "metadata": {},
     "output_type": "display_data"
    },
    {
     "data": {
      "text/html": [
       "<pre style=\"white-space:pre;overflow-x:auto;line-height:normal;font-family:Menlo,'DejaVu Sans Mono',consolas,'Courier New',monospace\"><span style=\"font-weight: bold\"> Non-trainable params: </span><span style=\"color: #00af00; text-decoration-color: #00af00\">0</span> (0.00 B)\n",
       "</pre>\n"
      ],
      "text/plain": [
       "\u001b[1m Non-trainable params: \u001b[0m\u001b[38;5;34m0\u001b[0m (0.00 B)\n"
      ]
     },
     "metadata": {},
     "output_type": "display_data"
    },
    {
     "name": "stdout",
     "output_type": "stream",
     "text": [
      "None\n"
     ]
    }
   ],
   "source": [
    "# Print the model summary (not yet built)\n",
    "print(\"Before feeding input:\")\n",
    "print(model.summary())\n",
    "\n",
    "# Feed dummy input data to build the model\n",
    "dummy_input = np.random.randint(0, voc_size, (1, sent_length))  # Batch size = 1, Sequence length = 20\n",
    "model.predict(dummy_input)  # This will build the model\n",
    "\n",
    "# Print the model summary (after building)\n",
    "print(\"After feeding input:\")\n",
    "print(model.summary())"
   ]
  },
  {
   "cell_type": "code",
   "execution_count": 13,
   "metadata": {},
   "outputs": [
    {
     "name": "stdout",
     "output_type": "stream",
     "text": [
      "\u001b[1m1/1\u001b[0m \u001b[32m━━━━━━━━━━━━━━━━━━━━\u001b[0m\u001b[37m\u001b[0m \u001b[1m0s\u001b[0m 94ms/step\n"
     ]
    },
    {
     "data": {
      "text/plain": [
       "array([[[ 0.03966038, -0.02511128, -0.04023644, -0.02464857,\n",
       "         -0.03786128,  0.01159413, -0.03030049, -0.00277288,\n",
       "          0.01048294,  0.00167454],\n",
       "        [ 0.03966038, -0.02511128, -0.04023644, -0.02464857,\n",
       "         -0.03786128,  0.01159413, -0.03030049, -0.00277288,\n",
       "          0.01048294,  0.00167454],\n",
       "        [ 0.03966038, -0.02511128, -0.04023644, -0.02464857,\n",
       "         -0.03786128,  0.01159413, -0.03030049, -0.00277288,\n",
       "          0.01048294,  0.00167454],\n",
       "        [ 0.03966038, -0.02511128, -0.04023644, -0.02464857,\n",
       "         -0.03786128,  0.01159413, -0.03030049, -0.00277288,\n",
       "          0.01048294,  0.00167454],\n",
       "        [ 0.01861108,  0.01040823,  0.01365659,  0.03512776,\n",
       "          0.04616379,  0.04907788,  0.00533162,  0.03356911,\n",
       "         -0.00633596,  0.04022571],\n",
       "        [ 0.04197159,  0.02347282, -0.03997086, -0.04316352,\n",
       "          0.02028095, -0.01574666,  0.00971476, -0.04433022,\n",
       "          0.02852005, -0.01057933],\n",
       "        [-0.01102672,  0.02111081, -0.03314646,  0.03625883,\n",
       "          0.00699627, -0.0188058 , -0.03619368,  0.0062    ,\n",
       "          0.01685257, -0.00808666],\n",
       "        [ 0.02679801, -0.04212217,  0.0194675 ,  0.01183462,\n",
       "          0.04012899,  0.03618452, -0.04844385, -0.01963118,\n",
       "          0.01133268,  0.00320159]],\n",
       "\n",
       "       [[ 0.03966038, -0.02511128, -0.04023644, -0.02464857,\n",
       "         -0.03786128,  0.01159413, -0.03030049, -0.00277288,\n",
       "          0.01048294,  0.00167454],\n",
       "        [ 0.03966038, -0.02511128, -0.04023644, -0.02464857,\n",
       "         -0.03786128,  0.01159413, -0.03030049, -0.00277288,\n",
       "          0.01048294,  0.00167454],\n",
       "        [ 0.03966038, -0.02511128, -0.04023644, -0.02464857,\n",
       "         -0.03786128,  0.01159413, -0.03030049, -0.00277288,\n",
       "          0.01048294,  0.00167454],\n",
       "        [ 0.03966038, -0.02511128, -0.04023644, -0.02464857,\n",
       "         -0.03786128,  0.01159413, -0.03030049, -0.00277288,\n",
       "          0.01048294,  0.00167454],\n",
       "        [ 0.01861108,  0.01040823,  0.01365659,  0.03512776,\n",
       "          0.04616379,  0.04907788,  0.00533162,  0.03356911,\n",
       "         -0.00633596,  0.04022571],\n",
       "        [ 0.04197159,  0.02347282, -0.03997086, -0.04316352,\n",
       "          0.02028095, -0.01574666,  0.00971476, -0.04433022,\n",
       "          0.02852005, -0.01057933],\n",
       "        [-0.01102672,  0.02111081, -0.03314646,  0.03625883,\n",
       "          0.00699627, -0.0188058 , -0.03619368,  0.0062    ,\n",
       "          0.01685257, -0.00808666],\n",
       "        [-0.03801417,  0.04893464, -0.00572393, -0.0197027 ,\n",
       "         -0.04640702,  0.00228893, -0.03976386, -0.04386486,\n",
       "         -0.00385267,  0.02475088]],\n",
       "\n",
       "       [[ 0.03966038, -0.02511128, -0.04023644, -0.02464857,\n",
       "         -0.03786128,  0.01159413, -0.03030049, -0.00277288,\n",
       "          0.01048294,  0.00167454],\n",
       "        [ 0.03966038, -0.02511128, -0.04023644, -0.02464857,\n",
       "         -0.03786128,  0.01159413, -0.03030049, -0.00277288,\n",
       "          0.01048294,  0.00167454],\n",
       "        [ 0.03966038, -0.02511128, -0.04023644, -0.02464857,\n",
       "         -0.03786128,  0.01159413, -0.03030049, -0.00277288,\n",
       "          0.01048294,  0.00167454],\n",
       "        [ 0.03966038, -0.02511128, -0.04023644, -0.02464857,\n",
       "         -0.03786128,  0.01159413, -0.03030049, -0.00277288,\n",
       "          0.01048294,  0.00167454],\n",
       "        [ 0.01861108,  0.01040823,  0.01365659,  0.03512776,\n",
       "          0.04616379,  0.04907788,  0.00533162,  0.03356911,\n",
       "         -0.00633596,  0.04022571],\n",
       "        [-0.00637617, -0.02919115, -0.03555841,  0.01821578,\n",
       "          0.02684002,  0.04771247,  0.04073992, -0.0265516 ,\n",
       "          0.03066652,  0.01359848],\n",
       "        [-0.01102672,  0.02111081, -0.03314646,  0.03625883,\n",
       "          0.00699627, -0.0188058 , -0.03619368,  0.0062    ,\n",
       "          0.01685257, -0.00808666],\n",
       "        [-0.01804426, -0.02886401,  0.04818868,  0.04466435,\n",
       "         -0.04378455, -0.03512387, -0.00499114,  0.03361404,\n",
       "         -0.04356955, -0.00428639]],\n",
       "\n",
       "       [[ 0.03966038, -0.02511128, -0.04023644, -0.02464857,\n",
       "         -0.03786128,  0.01159413, -0.03030049, -0.00277288,\n",
       "          0.01048294,  0.00167454],\n",
       "        [ 0.03966038, -0.02511128, -0.04023644, -0.02464857,\n",
       "         -0.03786128,  0.01159413, -0.03030049, -0.00277288,\n",
       "          0.01048294,  0.00167454],\n",
       "        [ 0.03966038, -0.02511128, -0.04023644, -0.02464857,\n",
       "         -0.03786128,  0.01159413, -0.03030049, -0.00277288,\n",
       "          0.01048294,  0.00167454],\n",
       "        [ 0.01374673,  0.01886224, -0.00073919, -0.03592694,\n",
       "          0.03864432,  0.02782023,  0.0424397 , -0.03867575,\n",
       "          0.03455332,  0.01001822],\n",
       "        [ 0.02399063,  0.02461871, -0.02193069, -0.00376366,\n",
       "         -0.04112237,  0.0258592 ,  0.00090363, -0.04257611,\n",
       "         -0.04285536,  0.00420866],\n",
       "        [-0.03578948,  0.02136249, -0.03847456,  0.01073601,\n",
       "          0.00510327, -0.03177892, -0.00383129,  0.04372971,\n",
       "          0.01598593, -0.01295211],\n",
       "        [-0.04867584,  0.03365323,  0.00019486,  0.00910852,\n",
       "         -0.01907381, -0.04295373,  0.04265964, -0.0302793 ,\n",
       "         -0.00791257,  0.02615661],\n",
       "        [-0.03443624,  0.00459624,  0.03974834, -0.01105649,\n",
       "          0.03790743,  0.03397763, -0.02685423, -0.01771872,\n",
       "          0.049578  , -0.02024264]],\n",
       "\n",
       "       [[ 0.03966038, -0.02511128, -0.04023644, -0.02464857,\n",
       "         -0.03786128,  0.01159413, -0.03030049, -0.00277288,\n",
       "          0.01048294,  0.00167454],\n",
       "        [ 0.03966038, -0.02511128, -0.04023644, -0.02464857,\n",
       "         -0.03786128,  0.01159413, -0.03030049, -0.00277288,\n",
       "          0.01048294,  0.00167454],\n",
       "        [ 0.03966038, -0.02511128, -0.04023644, -0.02464857,\n",
       "         -0.03786128,  0.01159413, -0.03030049, -0.00277288,\n",
       "          0.01048294,  0.00167454],\n",
       "        [ 0.01374673,  0.01886224, -0.00073919, -0.03592694,\n",
       "          0.03864432,  0.02782023,  0.0424397 , -0.03867575,\n",
       "          0.03455332,  0.01001822],\n",
       "        [ 0.02399063,  0.02461871, -0.02193069, -0.00376366,\n",
       "         -0.04112237,  0.0258592 ,  0.00090363, -0.04257611,\n",
       "         -0.04285536,  0.00420866],\n",
       "        [-0.03578948,  0.02136249, -0.03847456,  0.01073601,\n",
       "          0.00510327, -0.03177892, -0.00383129,  0.04372971,\n",
       "          0.01598593, -0.01295211],\n",
       "        [-0.04867584,  0.03365323,  0.00019486,  0.00910852,\n",
       "         -0.01907381, -0.04295373,  0.04265964, -0.0302793 ,\n",
       "         -0.00791257,  0.02615661],\n",
       "        [-0.00162493,  0.04703362, -0.00596751,  0.02369407,\n",
       "          0.03071714,  0.02853346, -0.02759971,  0.0085423 ,\n",
       "         -0.04225806,  0.04464665]],\n",
       "\n",
       "       [[ 0.03966038, -0.02511128, -0.04023644, -0.02464857,\n",
       "         -0.03786128,  0.01159413, -0.03030049, -0.00277288,\n",
       "          0.01048294,  0.00167454],\n",
       "        [ 0.03966038, -0.02511128, -0.04023644, -0.02464857,\n",
       "         -0.03786128,  0.01159413, -0.03030049, -0.00277288,\n",
       "          0.01048294,  0.00167454],\n",
       "        [ 0.03966038, -0.02511128, -0.04023644, -0.02464857,\n",
       "         -0.03786128,  0.01159413, -0.03030049, -0.00277288,\n",
       "          0.01048294,  0.00167454],\n",
       "        [ 0.01806719,  0.03643337, -0.02150828,  0.03095025,\n",
       "         -0.04120325,  0.01440252,  0.02195349,  0.02318964,\n",
       "         -0.04696282, -0.04285257],\n",
       "        [ 0.01861108,  0.01040823,  0.01365659,  0.03512776,\n",
       "          0.04616379,  0.04907788,  0.00533162,  0.03356911,\n",
       "         -0.00633596,  0.04022571],\n",
       "        [ 0.01252345,  0.02633953,  0.03140547, -0.02900506,\n",
       "          0.02756086, -0.00562787,  0.01969037, -0.01813599,\n",
       "         -0.01225122, -0.02807261],\n",
       "        [-0.01102672,  0.02111081, -0.03314646,  0.03625883,\n",
       "          0.00699627, -0.0188058 , -0.03619368,  0.0062    ,\n",
       "          0.01685257, -0.00808666],\n",
       "        [-0.01706835,  0.04478316,  0.02218137, -0.0361491 ,\n",
       "         -0.00318489, -0.02264811,  0.03362112, -0.04711441,\n",
       "          0.04981048,  0.01739002]],\n",
       "\n",
       "       [[ 0.03966038, -0.02511128, -0.04023644, -0.02464857,\n",
       "         -0.03786128,  0.01159413, -0.03030049, -0.00277288,\n",
       "          0.01048294,  0.00167454],\n",
       "        [ 0.03966038, -0.02511128, -0.04023644, -0.02464857,\n",
       "         -0.03786128,  0.01159413, -0.03030049, -0.00277288,\n",
       "          0.01048294,  0.00167454],\n",
       "        [ 0.03966038, -0.02511128, -0.04023644, -0.02464857,\n",
       "         -0.03786128,  0.01159413, -0.03030049, -0.00277288,\n",
       "          0.01048294,  0.00167454],\n",
       "        [ 0.03966038, -0.02511128, -0.04023644, -0.02464857,\n",
       "         -0.03786128,  0.01159413, -0.03030049, -0.00277288,\n",
       "          0.01048294,  0.00167454],\n",
       "        [-0.03503709, -0.0053305 , -0.00210369, -0.03221388,\n",
       "          0.02790656, -0.04297378, -0.00732919, -0.04340334,\n",
       "         -0.00099797,  0.00124881],\n",
       "        [ 0.0399749 , -0.00933855,  0.02809656, -0.00446378,\n",
       "          0.02138467,  0.00177699, -0.03873125, -0.03645891,\n",
       "          0.02403316,  0.03277342],\n",
       "        [-0.01851966, -0.04137977, -0.01843823,  0.01902756,\n",
       "         -0.0246832 ,  0.00585741, -0.00833014, -0.02578859,\n",
       "          0.02854352,  0.03696272],\n",
       "        [-0.04867584,  0.03365323,  0.00019486,  0.00910852,\n",
       "         -0.01907381, -0.04295373,  0.04265964, -0.0302793 ,\n",
       "         -0.00791257,  0.02615661]]], dtype=float32)"
      ]
     },
     "execution_count": 13,
     "metadata": {},
     "output_type": "execute_result"
    }
   ],
   "source": [
    "model.predict(Embedding_docs)       # every word represented by 10 dimensions"
   ]
  },
  {
   "cell_type": "code",
   "execution_count": 14,
   "metadata": {},
   "outputs": [
    {
     "data": {
      "text/plain": [
       "array([   0,    0,    0,    0, 2485, 4296, 1236, 9122], dtype=int32)"
      ]
     },
     "execution_count": 14,
     "metadata": {},
     "output_type": "execute_result"
    }
   ],
   "source": [
    "Embedding_docs[0]"
   ]
  },
  {
   "cell_type": "code",
   "execution_count": 15,
   "metadata": {},
   "outputs": [
    {
     "name": "stdout",
     "output_type": "stream",
     "text": [
      "\u001b[1m1/1\u001b[0m \u001b[32m━━━━━━━━━━━━━━━━━━━━\u001b[0m\u001b[37m\u001b[0m \u001b[1m0s\u001b[0m 91ms/step\n"
     ]
    },
    {
     "data": {
      "text/plain": [
       "array([[[ 0.03966038, -0.02511128, -0.04023644, -0.02464857,\n",
       "         -0.03786128,  0.01159413, -0.03030049, -0.00277288,\n",
       "          0.01048294,  0.00167454],\n",
       "        [ 0.03966038, -0.02511128, -0.04023644, -0.02464857,\n",
       "         -0.03786128,  0.01159413, -0.03030049, -0.00277288,\n",
       "          0.01048294,  0.00167454],\n",
       "        [ 0.03966038, -0.02511128, -0.04023644, -0.02464857,\n",
       "         -0.03786128,  0.01159413, -0.03030049, -0.00277288,\n",
       "          0.01048294,  0.00167454],\n",
       "        [ 0.03966038, -0.02511128, -0.04023644, -0.02464857,\n",
       "         -0.03786128,  0.01159413, -0.03030049, -0.00277288,\n",
       "          0.01048294,  0.00167454],\n",
       "        [ 0.01861108,  0.01040823,  0.01365659,  0.03512776,\n",
       "          0.04616379,  0.04907788,  0.00533162,  0.03356911,\n",
       "         -0.00633596,  0.04022571],\n",
       "        [ 0.04197159,  0.02347282, -0.03997086, -0.04316352,\n",
       "          0.02028095, -0.01574666,  0.00971476, -0.04433022,\n",
       "          0.02852005, -0.01057933],\n",
       "        [-0.01102672,  0.02111081, -0.03314646,  0.03625883,\n",
       "          0.00699627, -0.0188058 , -0.03619368,  0.0062    ,\n",
       "          0.01685257, -0.00808666],\n",
       "        [ 0.02679801, -0.04212217,  0.0194675 ,  0.01183462,\n",
       "          0.04012899,  0.03618452, -0.04844385, -0.01963118,\n",
       "          0.01133268,  0.00320159]]], dtype=float32)"
      ]
     },
     "execution_count": 15,
     "metadata": {},
     "output_type": "execute_result"
    }
   ],
   "source": [
    "# Example: Assume Embedding_docs[0] is a sequence of integers\n",
    "# representing tokenized input data\n",
    "sequence = Embedding_docs[0]  # Single sequence\n",
    "\n",
    "# Add a batch dimension\n",
    "sequence_with_batch = np.expand_dims(sequence, axis=0)  # Shape: (1, sequence_length)\n",
    "\n",
    "# Predict using the model\n",
    "output = model.predict(sequence_with_batch)\n",
    "output"
   ]
  },
  {
   "cell_type": "markdown",
   "metadata": {},
   "source": [
    "### now the entire array([   0,    0,    0,    0, 6516, 2298,  938, 4810], dtype=int32) converted to above array"
   ]
  },
  {
   "cell_type": "code",
   "execution_count": 16,
   "metadata": {},
   "outputs": [
    {
     "name": "stdout",
     "output_type": "stream",
     "text": [
      "Output shape: (1, 8, 10)\n"
     ]
    }
   ],
   "source": [
    "print(\"Output shape:\", output.shape)"
   ]
  },
  {
   "cell_type": "code",
   "execution_count": null,
   "metadata": {},
   "outputs": [],
   "source": []
  },
  {
   "cell_type": "code",
   "execution_count": null,
   "metadata": {},
   "outputs": [],
   "source": []
  }
 ],
 "metadata": {
  "kernelspec": {
   "display_name": "Python 3",
   "language": "python",
   "name": "python3"
  },
  "language_info": {
   "codemirror_mode": {
    "name": "ipython",
    "version": 3
   },
   "file_extension": ".py",
   "mimetype": "text/x-python",
   "name": "python",
   "nbconvert_exporter": "python",
   "pygments_lexer": "ipython3",
   "version": "3.12.0"
  }
 },
 "nbformat": 4,
 "nbformat_minor": 2
}
