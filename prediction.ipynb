{
 "cells": [
  {
   "cell_type": "code",
   "execution_count": 1,
   "metadata": {},
   "outputs": [],
   "source": [
    "# Step 1: Import Libraries and Load the Model\n",
    "import numpy as np\n",
    "import tensorflow as tf\n",
    "from tensorflow.keras.datasets import imdb\n",
    "from tensorflow.keras.preprocessing import sequence\n",
    "from tensorflow.keras.models import load_model"
   ]
  },
  {
   "cell_type": "code",
   "execution_count": 2,
   "metadata": {},
   "outputs": [],
   "source": [
    "# Load the IMDB dataset word index\n",
    "word_index = imdb.get_word_index()\n",
    "reverse_word_index = {value: key for key, value in word_index.items()}"
   ]
  },
  {
   "cell_type": "code",
   "execution_count": 3,
   "metadata": {},
   "outputs": [
    {
     "data": {
      "text/html": [
       "<pre style=\"white-space:pre;overflow-x:auto;line-height:normal;font-family:Menlo,'DejaVu Sans Mono',consolas,'Courier New',monospace\"><span style=\"font-weight: bold\">Model: \"sequential\"</span>\n",
       "</pre>\n"
      ],
      "text/plain": [
       "\u001b[1mModel: \"sequential\"\u001b[0m\n"
      ]
     },
     "metadata": {},
     "output_type": "display_data"
    },
    {
     "data": {
      "text/html": [
       "<pre style=\"white-space:pre;overflow-x:auto;line-height:normal;font-family:Menlo,'DejaVu Sans Mono',consolas,'Courier New',monospace\">┏━━━━━━━━━━━━━━━━━━━━━━━━━━━━━━━━━┳━━━━━━━━━━━━━━━━━━━━━━━━┳━━━━━━━━━━━━━━━┓\n",
       "┃<span style=\"font-weight: bold\"> Layer (type)                    </span>┃<span style=\"font-weight: bold\"> Output Shape           </span>┃<span style=\"font-weight: bold\">       Param # </span>┃\n",
       "┡━━━━━━━━━━━━━━━━━━━━━━━━━━━━━━━━━╇━━━━━━━━━━━━━━━━━━━━━━━━╇━━━━━━━━━━━━━━━┩\n",
       "│ embedding (<span style=\"color: #0087ff; text-decoration-color: #0087ff\">Embedding</span>)           │ (<span style=\"color: #00af00; text-decoration-color: #00af00\">1</span>, <span style=\"color: #00af00; text-decoration-color: #00af00\">500</span>, <span style=\"color: #00af00; text-decoration-color: #00af00\">128</span>)          │       <span style=\"color: #00af00; text-decoration-color: #00af00\">128,000</span> │\n",
       "├─────────────────────────────────┼────────────────────────┼───────────────┤\n",
       "│ simple_rnn (<span style=\"color: #0087ff; text-decoration-color: #0087ff\">SimpleRNN</span>)          │ (<span style=\"color: #00af00; text-decoration-color: #00af00\">1</span>, <span style=\"color: #00af00; text-decoration-color: #00af00\">128</span>)               │        <span style=\"color: #00af00; text-decoration-color: #00af00\">32,896</span> │\n",
       "├─────────────────────────────────┼────────────────────────┼───────────────┤\n",
       "│ dense (<span style=\"color: #0087ff; text-decoration-color: #0087ff\">Dense</span>)                   │ (<span style=\"color: #00af00; text-decoration-color: #00af00\">1</span>, <span style=\"color: #00af00; text-decoration-color: #00af00\">1</span>)                 │           <span style=\"color: #00af00; text-decoration-color: #00af00\">129</span> │\n",
       "└─────────────────────────────────┴────────────────────────┴───────────────┘\n",
       "</pre>\n"
      ],
      "text/plain": [
       "┏━━━━━━━━━━━━━━━━━━━━━━━━━━━━━━━━━┳━━━━━━━━━━━━━━━━━━━━━━━━┳━━━━━━━━━━━━━━━┓\n",
       "┃\u001b[1m \u001b[0m\u001b[1mLayer (type)                   \u001b[0m\u001b[1m \u001b[0m┃\u001b[1m \u001b[0m\u001b[1mOutput Shape          \u001b[0m\u001b[1m \u001b[0m┃\u001b[1m \u001b[0m\u001b[1m      Param #\u001b[0m\u001b[1m \u001b[0m┃\n",
       "┡━━━━━━━━━━━━━━━━━━━━━━━━━━━━━━━━━╇━━━━━━━━━━━━━━━━━━━━━━━━╇━━━━━━━━━━━━━━━┩\n",
       "│ embedding (\u001b[38;5;33mEmbedding\u001b[0m)           │ (\u001b[38;5;34m1\u001b[0m, \u001b[38;5;34m500\u001b[0m, \u001b[38;5;34m128\u001b[0m)          │       \u001b[38;5;34m128,000\u001b[0m │\n",
       "├─────────────────────────────────┼────────────────────────┼───────────────┤\n",
       "│ simple_rnn (\u001b[38;5;33mSimpleRNN\u001b[0m)          │ (\u001b[38;5;34m1\u001b[0m, \u001b[38;5;34m128\u001b[0m)               │        \u001b[38;5;34m32,896\u001b[0m │\n",
       "├─────────────────────────────────┼────────────────────────┼───────────────┤\n",
       "│ dense (\u001b[38;5;33mDense\u001b[0m)                   │ (\u001b[38;5;34m1\u001b[0m, \u001b[38;5;34m1\u001b[0m)                 │           \u001b[38;5;34m129\u001b[0m │\n",
       "└─────────────────────────────────┴────────────────────────┴───────────────┘\n"
      ]
     },
     "metadata": {},
     "output_type": "display_data"
    },
    {
     "data": {
      "text/html": [
       "<pre style=\"white-space:pre;overflow-x:auto;line-height:normal;font-family:Menlo,'DejaVu Sans Mono',consolas,'Courier New',monospace\"><span style=\"font-weight: bold\"> Total params: </span><span style=\"color: #00af00; text-decoration-color: #00af00\">483,077</span> (1.84 MB)\n",
       "</pre>\n"
      ],
      "text/plain": [
       "\u001b[1m Total params: \u001b[0m\u001b[38;5;34m483,077\u001b[0m (1.84 MB)\n"
      ]
     },
     "metadata": {},
     "output_type": "display_data"
    },
    {
     "data": {
      "text/html": [
       "<pre style=\"white-space:pre;overflow-x:auto;line-height:normal;font-family:Menlo,'DejaVu Sans Mono',consolas,'Courier New',monospace\"><span style=\"font-weight: bold\"> Trainable params: </span><span style=\"color: #00af00; text-decoration-color: #00af00\">161,025</span> (629.00 KB)\n",
       "</pre>\n"
      ],
      "text/plain": [
       "\u001b[1m Trainable params: \u001b[0m\u001b[38;5;34m161,025\u001b[0m (629.00 KB)\n"
      ]
     },
     "metadata": {},
     "output_type": "display_data"
    },
    {
     "data": {
      "text/html": [
       "<pre style=\"white-space:pre;overflow-x:auto;line-height:normal;font-family:Menlo,'DejaVu Sans Mono',consolas,'Courier New',monospace\"><span style=\"font-weight: bold\"> Non-trainable params: </span><span style=\"color: #00af00; text-decoration-color: #00af00\">0</span> (0.00 B)\n",
       "</pre>\n"
      ],
      "text/plain": [
       "\u001b[1m Non-trainable params: \u001b[0m\u001b[38;5;34m0\u001b[0m (0.00 B)\n"
      ]
     },
     "metadata": {},
     "output_type": "display_data"
    },
    {
     "data": {
      "text/html": [
       "<pre style=\"white-space:pre;overflow-x:auto;line-height:normal;font-family:Menlo,'DejaVu Sans Mono',consolas,'Courier New',monospace\"><span style=\"font-weight: bold\"> Optimizer params: </span><span style=\"color: #00af00; text-decoration-color: #00af00\">322,052</span> (1.23 MB)\n",
       "</pre>\n"
      ],
      "text/plain": [
       "\u001b[1m Optimizer params: \u001b[0m\u001b[38;5;34m322,052\u001b[0m (1.23 MB)\n"
      ]
     },
     "metadata": {},
     "output_type": "display_data"
    }
   ],
   "source": [
    "# Load the pre-trained model with ReLU activation\n",
    "model = load_model('simple_rnn_imdb.keras')\n",
    "model.summary()"
   ]
  },
  {
   "cell_type": "code",
   "execution_count": 4,
   "metadata": {},
   "outputs": [
    {
     "data": {
      "text/plain": [
       "[array([[ 0.04303209,  0.02663393,  0.04429107, ..., -0.00912238,\n",
       "         -0.02591552,  0.07361058],\n",
       "        [ 0.03135082, -0.01981144,  0.03523948, ..., -0.0486373 ,\n",
       "         -0.03163909, -0.01943162],\n",
       "        [ 0.04868244, -0.00121341, -0.01552613, ...,  0.01562205,\n",
       "          0.03888512,  0.11966314],\n",
       "        ...,\n",
       "        [ 0.06958354,  0.04911613,  0.09460178, ...,  0.01415379,\n",
       "         -0.02307495, -0.2653306 ],\n",
       "        [-0.06156054, -0.13978937, -0.0469751 , ...,  0.03921058,\n",
       "         -0.00484348, -0.1078243 ],\n",
       "        [-0.00323258, -0.14187439,  0.14518738, ..., -0.00397652,\n",
       "          0.15177628, -0.23844022]], dtype=float32),\n",
       " array([[ 0.04069463, -0.11657228, -0.03377894, ...,  0.08834802,\n",
       "          0.12622625, -0.05007339],\n",
       "        [ 0.08974172, -0.11369828,  0.00221433, ...,  0.08472064,\n",
       "         -0.08062911,  0.09211328],\n",
       "        [ 0.04349858,  0.15318051, -0.03083104, ..., -0.04834317,\n",
       "          0.03380326,  0.07486073],\n",
       "        ...,\n",
       "        [ 0.03493743, -0.01460916, -0.12632906, ...,  0.00567827,\n",
       "         -0.0732452 , -0.1183475 ],\n",
       "        [ 0.09117116, -0.15263872, -0.13602747, ...,  0.07601245,\n",
       "          0.02435588,  0.04219298],\n",
       "        [ 0.14172065,  0.0176575 ,  0.04925359, ...,  0.00116239,\n",
       "          0.13058427,  0.10364204]], dtype=float32),\n",
       " array([[-0.08761584, -0.00694563,  0.01231272, ...,  0.02016797,\n",
       "         -0.06883181,  0.16602781],\n",
       "        [ 0.06851754,  0.07741217, -0.09128837, ..., -0.05902951,\n",
       "         -0.02910231, -0.03086432],\n",
       "        [ 0.04662709, -0.04166558,  0.02473523, ..., -0.03130094,\n",
       "          0.16795844,  0.07645462],\n",
       "        ...,\n",
       "        [ 0.08165858, -0.04446993, -0.05761473, ..., -0.05416441,\n",
       "          0.01252471,  0.04955896],\n",
       "        [-0.01230189,  0.08505397, -0.03922513, ...,  0.09100339,\n",
       "         -0.03776868, -0.06807581],\n",
       "        [ 0.03782666,  0.05940091, -0.17380092, ..., -0.03939669,\n",
       "         -0.08657154, -0.1424478 ]], dtype=float32),\n",
       " array([-0.00030378, -0.0019757 , -0.02422317,  0.00599355, -0.02472727,\n",
       "         0.0044096 , -0.01386858, -0.00244398, -0.02762941, -0.02131573,\n",
       "        -0.02660688,  0.04091342,  0.03314455, -0.00640645, -0.01079164,\n",
       "        -0.0259342 ,  0.02550243, -0.02153706, -0.01128905, -0.00367404,\n",
       "        -0.00026999,  0.0107715 , -0.04153017, -0.0179887 ,  0.04360905,\n",
       "         0.03670282, -0.00204872, -0.02697095,  0.0034487 , -0.02653537,\n",
       "        -0.00689697,  0.01935884, -0.02587693, -0.03262057, -0.03266969,\n",
       "        -0.01602485,  0.02165844, -0.02808158, -0.01720073,  0.0035083 ,\n",
       "         0.00565796, -0.03429409,  0.02819499,  0.03903428, -0.01293   ,\n",
       "        -0.0215823 ,  0.01696342, -0.01909051, -0.02790507, -0.01409718,\n",
       "        -0.00490224, -0.02813515,  0.02179483, -0.02874543, -0.01718639,\n",
       "        -0.03223899, -0.02359239, -0.01006467,  0.04108413, -0.0111188 ,\n",
       "        -0.02771786, -0.01977131, -0.02768132, -0.02314063, -0.02006159,\n",
       "        -0.0204765 ,  0.00712921,  0.02962327, -0.0243004 , -0.00272972,\n",
       "         0.00221476, -0.04361366,  0.00325331, -0.0491299 ,  0.02404821,\n",
       "        -0.01396981,  0.03471576, -0.00463518,  0.02717547,  0.02633462,\n",
       "        -0.02730368,  0.04889977, -0.03266534,  0.02668387, -0.01959237,\n",
       "        -0.02972286, -0.01401572,  0.03782908, -0.02750355, -0.03066083,\n",
       "         0.03396944, -0.00451855, -0.01947792, -0.02990763, -0.01215843,\n",
       "        -0.02648862,  0.05570139, -0.02068808,  0.04092433, -0.03079221,\n",
       "        -0.01883245, -0.01320926, -0.01616012,  0.01583831, -0.00944711,\n",
       "         0.04201353, -0.02823108,  0.02794445,  0.00398721, -0.02204998,\n",
       "         0.09135208, -0.01536467, -0.0256168 ,  0.01224259, -0.01799546,\n",
       "        -0.01684564, -0.02332393, -0.00043509,  0.04763416, -0.04065181,\n",
       "        -0.04279169, -0.00507807, -0.00765363,  0.04157421,  0.0326031 ,\n",
       "        -0.03983836, -0.00652101,  0.0308858 ], dtype=float32),\n",
       " array([[-1.3466601e-01],\n",
       "        [-1.1268986e-01],\n",
       "        [-9.8881483e-02],\n",
       "        [ 7.0068412e-02],\n",
       "        [ 3.3024296e-01],\n",
       "        [ 3.7051141e-02],\n",
       "        [ 8.6706378e-02],\n",
       "        [ 1.5806460e-01],\n",
       "        [-1.5885353e-01],\n",
       "        [-8.7135963e-02],\n",
       "        [-1.0800909e-01],\n",
       "        [ 8.0513023e-02],\n",
       "        [ 4.1265339e-02],\n",
       "        [-5.0989288e-01],\n",
       "        [ 1.2272077e-01],\n",
       "        [-4.8263714e-02],\n",
       "        [-2.9211599e-01],\n",
       "        [-2.9496491e-01],\n",
       "        [ 5.5293465e-01],\n",
       "        [-2.3959871e-01],\n",
       "        [-3.9542109e-02],\n",
       "        [-1.5051025e-01],\n",
       "        [-4.6597827e-02],\n",
       "        [-7.9226643e-02],\n",
       "        [ 6.5673746e-02],\n",
       "        [-9.4946742e-02],\n",
       "        [-1.6388565e-01],\n",
       "        [-8.9219697e-02],\n",
       "        [ 8.4564142e-02],\n",
       "        [ 1.4828511e-01],\n",
       "        [-1.6425593e-01],\n",
       "        [ 2.9909056e-02],\n",
       "        [ 8.3814037e-01],\n",
       "        [ 1.7048010e-01],\n",
       "        [ 1.8058059e-01],\n",
       "        [-1.9410089e-01],\n",
       "        [-1.4228559e-01],\n",
       "        [-5.5566732e-02],\n",
       "        [-1.4794806e-01],\n",
       "        [ 1.0288682e-01],\n",
       "        [-1.4803185e-01],\n",
       "        [-8.1667043e-03],\n",
       "        [-1.5094511e-02],\n",
       "        [ 9.1557451e-02],\n",
       "        [ 7.9070963e-02],\n",
       "        [-8.7061375e-03],\n",
       "        [-2.5917601e-02],\n",
       "        [-4.1163954e-01],\n",
       "        [-7.6947294e-02],\n",
       "        [ 5.7013589e-04],\n",
       "        [ 6.1443277e-02],\n",
       "        [ 2.8352040e-01],\n",
       "        [-9.2523001e-02],\n",
       "        [-1.3026635e-01],\n",
       "        [-1.8031056e-01],\n",
       "        [-1.4421448e-01],\n",
       "        [-1.0711660e-01],\n",
       "        [-2.4261500e-01],\n",
       "        [ 1.6442092e-02],\n",
       "        [-6.0425840e-02],\n",
       "        [ 3.3643853e-02],\n",
       "        [-1.3522603e-01],\n",
       "        [ 7.3843829e-02],\n",
       "        [-6.3032150e-02],\n",
       "        [ 6.4811118e-02],\n",
       "        [ 1.6510431e-01],\n",
       "        [-2.1185884e-01],\n",
       "        [ 1.3135076e-01],\n",
       "        [-1.2513100e-01],\n",
       "        [ 1.6485482e-01],\n",
       "        [ 5.4194541e-03],\n",
       "        [-9.6733883e-02],\n",
       "        [-1.3797496e-01],\n",
       "        [-8.9301825e-02],\n",
       "        [ 6.9412917e-02],\n",
       "        [-1.9845134e-02],\n",
       "        [ 1.3613557e-02],\n",
       "        [-2.0783505e-01],\n",
       "        [ 3.0345663e-02],\n",
       "        [ 6.0116071e-02],\n",
       "        [ 1.8714140e-01],\n",
       "        [ 3.9986365e-02],\n",
       "        [ 1.8488099e-01],\n",
       "        [-1.7768744e-01],\n",
       "        [-2.1683548e-01],\n",
       "        [-4.7341920e-02],\n",
       "        [ 1.3234866e-01],\n",
       "        [ 1.1624041e-01],\n",
       "        [-3.8710794e-01],\n",
       "        [-1.6365381e-01],\n",
       "        [-2.0090874e-01],\n",
       "        [ 9.6784554e-02],\n",
       "        [-2.0687272e-01],\n",
       "        [-6.9882855e-02],\n",
       "        [-1.4876001e-01],\n",
       "        [-5.2666973e-02],\n",
       "        [ 2.0570725e-01],\n",
       "        [-2.3051237e-01],\n",
       "        [-5.1374119e-02],\n",
       "        [-2.1387337e-01],\n",
       "        [ 4.2031072e-03],\n",
       "        [-1.1391674e-01],\n",
       "        [ 1.3826470e-02],\n",
       "        [ 1.8994018e-01],\n",
       "        [-1.7226528e-01],\n",
       "        [ 2.0659107e-01],\n",
       "        [-2.4877784e-01],\n",
       "        [-4.2878117e-02],\n",
       "        [-9.7442418e-02],\n",
       "        [-7.3131405e-02],\n",
       "        [-2.4071136e-01],\n",
       "        [ 2.1436399e-01],\n",
       "        [ 1.9356076e-01],\n",
       "        [-5.0926179e-01],\n",
       "        [-7.7900819e-02],\n",
       "        [-1.5484685e-01],\n",
       "        [-1.3049935e-01],\n",
       "        [ 2.3435847e-01],\n",
       "        [ 1.8216775e-01],\n",
       "        [-7.6981023e-02],\n",
       "        [-1.0237361e-01],\n",
       "        [-7.6208323e-02],\n",
       "        [-1.8319885e-01],\n",
       "        [ 1.0525858e-01],\n",
       "        [-1.8171640e-01],\n",
       "        [ 5.0921578e-02],\n",
       "        [-1.6321427e-01],\n",
       "        [-1.7040415e-01]], dtype=float32),\n",
       " array([-1.0186732], dtype=float32)]"
      ]
     },
     "execution_count": 4,
     "metadata": {},
     "output_type": "execute_result"
    }
   ],
   "source": [
    "model.get_weights()"
   ]
  },
  {
   "cell_type": "code",
   "execution_count": 5,
   "metadata": {},
   "outputs": [],
   "source": [
    "# Add padding/unknown words (word index 0, 1, 2 are reserved)\n",
    "reverse_word_index = {i+3: word for i, word in reverse_word_index.items()}  # Adjust index\n",
    "\n",
    "# Function to decode reviews\n",
    "def decode_review(encoded_review):\n",
    "    return ' '.join([reverse_word_index.get(i, '?') for i in encoded_review])\n",
    "\n",
    "# Function to preprocess user input\n",
    "def preprocess_text(text):\n",
    "    words = text.lower().split()  # Convert to lower case and split into words\n",
    "    encoded_review = [word_index.get(word, 2) + 3 for word in words]  # Handle words not in the word_index\n",
    "    padded_review = sequence.pad_sequences([encoded_review], maxlen=500)  # Pad sequences to a length of 500\n",
    "    return padded_review"
   ]
  },
  {
   "cell_type": "code",
   "execution_count": 6,
   "metadata": {},
   "outputs": [],
   "source": [
    "### Prediction  function\n",
    "\n",
    "def predict_sentiment(review):\n",
    "    preprocessed_input=preprocess_text(review)\n",
    "\n",
    "    prediction=model.predict(preprocessed_input)\n",
    "\n",
    "    sentiment = 'Positive' if prediction[0][0] > 0.5 else 'Negative'\n",
    "    \n",
    "    return sentiment, prediction[0][0]"
   ]
  },
  {
   "cell_type": "code",
   "execution_count": 9,
   "metadata": {},
   "outputs": [
    {
     "name": "stdout",
     "output_type": "stream",
     "text": [
      "\u001b[1m1/1\u001b[0m \u001b[32m━━━━━━━━━━━━━━━━━━━━\u001b[0m\u001b[37m\u001b[0m \u001b[1m0s\u001b[0m 80ms/step\n",
      "Review: I like this movie\n",
      "Sentiment: Positive\n",
      "Prediction Score: 0.6037325859069824\n"
     ]
    }
   ],
   "source": [
    "# Step 4: User Input and Prediction\n",
    "# Example review for prediction\n",
    "example_review = \"This movie was fantastic! The acting was great and the plot was thrilling.\"\n",
    "example_revieww = \"I like this movie\"\n",
    "\n",
    "sentiment,score=predict_sentiment(example_revieww)\n",
    "\n",
    "print(f'Review: {example_revieww}')\n",
    "print(f'Sentiment: {sentiment}')\n",
    "print(f'Prediction Score: {score}')"
   ]
  },
  {
   "cell_type": "code",
   "execution_count": null,
   "metadata": {},
   "outputs": [],
   "source": []
  },
  {
   "cell_type": "code",
   "execution_count": null,
   "metadata": {},
   "outputs": [],
   "source": []
  }
 ],
 "metadata": {
  "kernelspec": {
   "display_name": "Python 3",
   "language": "python",
   "name": "python3"
  },
  "language_info": {
   "codemirror_mode": {
    "name": "ipython",
    "version": 3
   },
   "file_extension": ".py",
   "mimetype": "text/x-python",
   "name": "python",
   "nbconvert_exporter": "python",
   "pygments_lexer": "ipython3",
   "version": "3.12.0"
  }
 },
 "nbformat": 4,
 "nbformat_minor": 2
}
